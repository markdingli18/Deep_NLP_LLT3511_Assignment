{
 "cells": [
  {
   "cell_type": "code",
   "execution_count": 1,
   "metadata": {},
   "outputs": [],
   "source": [
    "%matplotlib inline\n",
    "\n",
    "import collections\n",
    "from collections import Counter\n",
    "import random\n",
    "import matplotlib.pyplot as plt\n",
    "import nltk\n",
    "import numpy as np\n",
    "import torch\n",
    "\n",
    "# Other Imports\n",
    "\n",
    "import torch.nn as nn\n",
    "import torch.nn.functional as F\n",
    "from torch.nn.utils.rnn import pad_sequence\n",
    "from torch.utils.data import DataLoader, TensorDataset\n",
    "import torch.optim as optim\n",
    "import math\n",
    "from tqdm import tqdm\n",
    "from nltk.tokenize import sent_tokenize\n",
    "from copy import deepcopy\n",
    "from nltk.util import trigrams\n",
    "from nltk.tokenize import word_tokenize\n",
    "\n",
    "device = 'cuda' if torch.cuda.is_available() else 'cpu'"
   ]
  },
  {
   "cell_type": "markdown",
   "metadata": {},
   "source": [
    "# Text compression assignment\n",
    "\n",
    "It is said that you can measure the intelligence of an AI from the amount it can compress a text without information loss.\n",
    "One way to think about this is that, the more a text is predictable, the more words we can leave out of it as we can guess the missing words.\n",
    "On the other hand, the more intelligent an AI is, the more it will find texts to be predictable and so the more words it can leave out and guess.\n",
    "This has led to a competition called the [Hutter Prize](http://prize.hutter1.net/) where the objective is to compress a given text as much as possible.\n",
    "The record for compressing a 1GB text file extracted from a Wikipedia snapshot is about 115MB.\n",
    "The main hurdle here is that the program used to decompress the file must be treated as part of the compressed file, meaning that the program itself must also be small.\n",
    "\n",
    "In this assignment, you're going to be doing something similar using a smaller text file and using neural language models to guess missing words."
   ]
  },
  {
   "cell_type": "markdown",
   "metadata": {},
   "source": [
    "## 1) Data processing (10%)\n",
    "\n",
    "You have a train/dev/test split corpus of text from Wikipedia consisting of single sentences.\n",
    "Each sentence is on a separate line and each sentence has been tokenised for you such that tokens are space separated.\n",
    "This means that you only need to split by space to get the tokens.\n",
    "The text has all been lowercased as well.\n",
    "The objective here is to be able to compress the text losslessly, meaning that it can be decompressed back to the original string:\n",
    "\n",
    "$$\\text{decompress}(\\text{compress}(t)) = t$$\n",
    "\n",
    "Do not do any further pre-processing on the text (such as stemming) as it may result in unrecoverable information loss.\n",
    "The test set is what we will be compressing and will not be processed at all as it will be treated as a single big string by the compression/decompression algorithms.\n",
    "\n",
    "Do the following tasks:"
   ]
  },
  {
   "cell_type": "markdown",
   "metadata": {},
   "source": [
    "1.1) Load the train set and dev set text files into a list of sentences where each sentence is tokenised (by splitting by space).\n",
    "Do not load the test set."
   ]
  },
  {
   "cell_type": "code",
   "execution_count": 2,
   "metadata": {},
   "outputs": [
    {
     "name": "stdout",
     "output_type": "stream",
     "text": [
      "Sample Train Sentences:\n",
      "\n",
      " [['dr.', 'tonie', 'mcdonald', 'is', 'a', 'life', 'long', 'levittown', 'resident', 'who', 'taught', 'and', 'rose', 'through', 'the', 'ranks', 'of', 'the', 'district', 'she', 'now', 'leads', '.'], ['he', 'received', 'his', 'ba', 'in', 'chemistry', ',', 'magna', 'cum', 'laude', ',', 'from', 'amherst', 'college', 'in', '1', '9', '8', '1', '.'], ['the', 'growth', 'of', 'twin', 'cities', 'international', 'airport', 'during', 'the', 'last', 'half', 'of', 'the', 'twentieth', 'century', 'along', 'with', 'additions', 'of', 'land', 'to', 'the', 'fort', 'snelling', 'compound', 'meant', 'further', 'reductions', '.']]\n",
      "\n",
      "Sample Dev Sentences:\n",
      "\n",
      " [['jones', 'viewed', 'the', 'resolution', 'as', 'the', 'framework', ',', 'and', 'not', 'the', 'final', 'solution', ',', 'for', 'enabling', 'librarians', 'to', 'confront', 'issues', 'that', 'hampered', '``', 'human', 'freedom', \"''\", '.'], ['he', 'lives', 'in', 'ottawa', ',', 'where', 'he', 'composes', 'full-time', '.'], ['many', 'natural', 'gas', 'pipelines', 'span', 'the', 'country', \"'s\", 'territory', '.']]\n"
     ]
    }
   ],
   "source": [
    "# Function to load and tokenize sentences from a text file\n",
    "def load_and_tokenize(file_path):\n",
    "    # Open the file with read permissions and UTF-8 encoding\n",
    "    with open(file_path, 'r', encoding='utf-8') as f:\n",
    "        # Read all lines from the file into a list\n",
    "        sentences = f.readlines()\n",
    "    # Return a list of tokenized sentences\n",
    "    # Each sentence is stripped of leading/trailing whitespaces and then split by spaces\n",
    "    return [sentence.strip().split(' ') for sentence in sentences]\n",
    "\n",
    "# Define the paths to the train and dev text files\n",
    "train_file_path = 'train.txt'\n",
    "dev_file_path = 'dev.txt'\n",
    "\n",
    "# Load and tokenize the sentences from the train set\n",
    "train_sentences = load_and_tokenize(train_file_path)\n",
    "# Load and tokenize the sentences from the dev set\n",
    "dev_sentences = load_and_tokenize(dev_file_path)\n",
    "\n",
    "# Take the first 3 tokenized sentences from the train set as sample data\n",
    "sample_train = train_sentences[:3]\n",
    "# Take the first 3 tokenized sentences from the dev set as sample data\n",
    "sample_dev = dev_sentences[:3]\n",
    "\n",
    "# Print the sample data from the train set to verify the output\n",
    "print(\"Sample Train Sentences:\\n\\n\", sample_train)\n",
    "# Print the sample data from the dev set to verify the output\n",
    "print(\"\\nSample Dev Sentences:\\n\\n\", sample_dev)"
   ]
  },
  {
   "cell_type": "markdown",
   "metadata": {},
   "source": [
    "1.2) Extract a vocabulary consisting of the tokens that occur at least 3 times in the train set and output the size of your vocabulary.\n",
    "Also output the most frequent vocabulary token in the train set, which should be 'the'.\n",
    "Include the edge token, unknown token, and pad token in the vocabulary."
   ]
  },
  {
   "cell_type": "code",
   "execution_count": 3,
   "metadata": {},
   "outputs": [
    {
     "name": "stdout",
     "output_type": "stream",
     "text": [
      "Vocabulary Size: 7874\n",
      "\n",
      "Most Frequent Token: the\n"
     ]
    }
   ],
   "source": [
    "# Count the frequency of each token in the train set\n",
    "token_counter = Counter(token for sentence in train_sentences for token in sentence)\n",
    "\n",
    "# Create a vocabulary by filtering out tokens that appear less than 3 times in the train set\n",
    "vocab = {token for token, count in token_counter.items() if count >= 3}\n",
    "\n",
    "# Define a set of special tokens: Padding, Unknown, and Edge tokens\n",
    "special_tokens = {'<PAD>', '<UNK>', '<EDGE>'}\n",
    "\n",
    "# Add the special tokens to the vocabulary\n",
    "vocab.update(special_tokens)\n",
    "\n",
    "# Convert the vocabulary set to a dictionary with unique integer IDs for each token\n",
    "vocab_dict = {token: index for index, token in enumerate(vocab)}\n",
    "\n",
    "# Optionally, create an index-to-token dictionary for reverse look-up\n",
    "index_to_token = {index: token for token, index in vocab_dict.items()}\n",
    "\n",
    "# Testing: Check if special tokens are in the vocabulary dictionary\n",
    "assert '<PAD>' in vocab_dict, \"'<PAD>' not found in vocab_dict\"\n",
    "assert '<UNK>' in vocab_dict, \"'<UNK>' not found in vocab_dict\"\n",
    "assert '<EDGE>' in vocab_dict, \"'<EDGE>' not found in vocab_dict\"\n",
    "\n",
    "# Calculate the size of the vocabulary by taking the length of the vocab dictionary\n",
    "vocab_size = len(vocab_dict)\n",
    "\n",
    "# Find the most frequent token in the train set\n",
    "most_frequent_token = token_counter.most_common(1)[0][0]\n",
    "\n",
    "# Output the vocabulary size and the most frequent token for verification\n",
    "print(f\"Vocabulary Size: {vocab_size}\\n\")\n",
    "print(f\"Most Frequent Token: {most_frequent_token}\")"
   ]
  },
  {
   "cell_type": "markdown",
   "metadata": {},
   "source": [
    "1.3) Process the loaded token sequences for the train set and dev set using the vocabulary created above in a way that is suitable for a language model, making use of edge tokens, unknown tokens, and pad tokens.\n",
    "Do not do this for the test set as well."
   ]
  },
  {
   "cell_type": "code",
   "execution_count": 4,
   "metadata": {},
   "outputs": [
    {
     "name": "stdout",
     "output_type": "stream",
     "text": [
      "Original sentence 1: ['dr.', 'tonie', 'mcdonald', 'is', 'a', 'life', 'long', 'levittown', 'resident', 'who', 'taught', 'and', 'rose', 'through', 'the', 'ranks', 'of', 'the', 'district', 'she', 'now', 'leads', '.']\n",
      "\n",
      "Token sentence 1 (with special tokens): ['<EDGE>', 'dr.', '<UNK>', 'mcdonald', 'is', 'a', 'life', 'long', '<UNK>', 'resident', 'who', 'taught', 'and', 'rose', 'through', 'the', 'ranks', 'of', 'the', 'district', 'she', 'now', 'leads', '.', '<PAD>', '<PAD>', '<PAD>', '<PAD>', '<PAD>', '<PAD>', '<PAD>', '<PAD>', '<PAD>', '<PAD>', '<PAD>', '<PAD>', '<PAD>', '<PAD>', '<PAD>', '<PAD>', '<PAD>', '<PAD>', '<PAD>', '<PAD>', '<PAD>', '<PAD>', '<PAD>', '<PAD>', '<PAD>', '<PAD>', '<PAD>', '<EDGE>']\n",
      "\n",
      "Indexed sentence 1: [5774, 6937, 6690, 1362, 2791, 6244, 311, 3079, 6690, 3986, 2901, 159, 2399, 6216, 6615, 955, 688, 586, 955, 789, 5210, 2140, 689, 5293, 4847, 4847, 4847, 4847, 4847, 4847, 4847, 4847, 4847, 4847, 4847, 4847, 4847, 4847, 4847, 4847, 4847, 4847, 4847, 4847, 4847, 4847, 4847, 4847, 4847, 4847, 4847, 5774]\n",
      "\n",
      "Original sentence 2: ['he', 'received', 'his', 'ba', 'in', 'chemistry', ',', 'magna', 'cum', 'laude', ',', 'from', 'amherst', 'college', 'in', '1', '9', '8', '1', '.']\n",
      "\n",
      "Token sentence 2 (with special tokens): ['<EDGE>', 'he', 'received', 'his', 'ba', 'in', 'chemistry', ',', '<UNK>', '<UNK>', '<UNK>', ',', 'from', '<UNK>', 'college', 'in', '1', '9', '8', '1', '.', '<PAD>', '<PAD>', '<PAD>', '<PAD>', '<PAD>', '<PAD>', '<PAD>', '<PAD>', '<PAD>', '<PAD>', '<PAD>', '<PAD>', '<PAD>', '<PAD>', '<PAD>', '<PAD>', '<PAD>', '<PAD>', '<PAD>', '<PAD>', '<PAD>', '<PAD>', '<PAD>', '<PAD>', '<PAD>', '<PAD>', '<PAD>', '<PAD>', '<PAD>', '<PAD>', '<EDGE>']\n",
      "\n",
      "Indexed sentence 2: [5774, 475, 566, 3144, 7270, 5916, 3606, 470, 6690, 6690, 6690, 470, 103, 6690, 3677, 5916, 4558, 838, 168, 4558, 5293, 4847, 4847, 4847, 4847, 4847, 4847, 4847, 4847, 4847, 4847, 4847, 4847, 4847, 4847, 4847, 4847, 4847, 4847, 4847, 4847, 4847, 4847, 4847, 4847, 4847, 4847, 4847, 4847, 4847, 4847, 5774]\n",
      "\n",
      "Original sentence 3: ['the', 'growth', 'of', 'twin', 'cities', 'international', 'airport', 'during', 'the', 'last', 'half', 'of', 'the', 'twentieth', 'century', 'along', 'with', 'additions', 'of', 'land', 'to', 'the', 'fort', 'snelling', 'compound', 'meant', 'further', 'reductions', '.']\n",
      "\n",
      "Token sentence 3 (with special tokens): ['<EDGE>', 'the', 'growth', 'of', 'twin', 'cities', 'international', 'airport', 'during', 'the', 'last', 'half', 'of', 'the', 'twentieth', 'century', 'along', 'with', '<UNK>', 'of', 'land', 'to', 'the', 'fort', '<UNK>', 'compound', 'meant', 'further', 'reductions', '.', '<PAD>', '<PAD>', '<PAD>', '<PAD>', '<PAD>', '<PAD>', '<PAD>', '<PAD>', '<PAD>', '<PAD>', '<PAD>', '<PAD>', '<PAD>', '<PAD>', '<PAD>', '<PAD>', '<PAD>', '<PAD>', '<PAD>', '<PAD>', '<PAD>', '<EDGE>']\n",
      "\n",
      "Indexed sentence 3: [5774, 955, 1199, 586, 6474, 2419, 3444, 741, 2320, 955, 5839, 1175, 586, 955, 3098, 5602, 1538, 6622, 6690, 586, 282, 7333, 955, 4974, 6690, 5722, 7666, 7615, 5274, 5293, 4847, 4847, 4847, 4847, 4847, 4847, 4847, 4847, 4847, 4847, 4847, 4847, 4847, 4847, 4847, 4847, 4847, 4847, 4847, 4847, 4847, 5774]\n",
      "\n",
      "Processed train tensors (first 3 sentences):\n",
      "tensor([[5774, 6937, 6690, 1362, 2791, 6244,  311, 3079, 6690, 3986, 2901,  159,\n",
      "         2399, 6216, 6615,  955,  688,  586,  955,  789, 5210, 2140,  689, 5293,\n",
      "         4847, 4847, 4847, 4847, 4847, 4847, 4847, 4847, 4847, 4847, 4847, 4847,\n",
      "         4847, 4847, 4847, 4847, 4847, 4847, 4847, 4847, 4847, 4847, 4847, 4847,\n",
      "         4847, 4847, 4847, 5774],\n",
      "        [5774,  475,  566, 3144, 7270, 5916, 3606,  470, 6690, 6690, 6690,  470,\n",
      "          103, 6690, 3677, 5916, 4558,  838,  168, 4558, 5293, 4847, 4847, 4847,\n",
      "         4847, 4847, 4847, 4847, 4847, 4847, 4847, 4847, 4847, 4847, 4847, 4847,\n",
      "         4847, 4847, 4847, 4847, 4847, 4847, 4847, 4847, 4847, 4847, 4847, 4847,\n",
      "         4847, 4847, 4847, 5774],\n",
      "        [5774,  955, 1199,  586, 6474, 2419, 3444,  741, 2320,  955, 5839, 1175,\n",
      "          586,  955, 3098, 5602, 1538, 6622, 6690,  586,  282, 7333,  955, 4974,\n",
      "         6690, 5722, 7666, 7615, 5274, 5293, 4847, 4847, 4847, 4847, 4847, 4847,\n",
      "         4847, 4847, 4847, 4847, 4847, 4847, 4847, 4847, 4847, 4847, 4847, 4847,\n",
      "         4847, 4847, 4847, 5774]])\n"
     ]
    }
   ],
   "source": [
    "def process_sentences(sentences, vocab_dict, max_length=None):\n",
    "    # Determine the maximum length of the sentences, adding 2 for the start and end edge tokens\n",
    "    if max_length is None:\n",
    "        max_length = max(len(sentence) for sentence in sentences) + 2  \n",
    "\n",
    "    # Initialize a list to hold the processed sentences\n",
    "    processed_sentences = []\n",
    "    # Initialize a list to hold the indexed representation of each sentence \n",
    "    indexed_sentences = []\n",
    "    # Initialize a list to hold the tokenized sentences including special tokens\n",
    "    token_sentences = []\n",
    "\n",
    "    # Retrieve the consistent index for the <EDGE> token\n",
    "    edge_index = vocab_dict['<EDGE>']\n",
    "\n",
    "    for sentence in sentences:\n",
    "        # Convert tokens to their corresponding indices in the vocabulary\n",
    "        indexed_sentence = [edge_index] + [vocab_dict.get(token, vocab_dict['<UNK>']) for token in sentence]\n",
    "\n",
    "        # Pad the sentence to the max_length with the index for <PAD>\n",
    "        indexed_sentence += [vocab_dict['<PAD>']] * (max_length - len(indexed_sentence) - 1)\n",
    "\n",
    "        # Append the final edge token\n",
    "        indexed_sentence.append(edge_index)\n",
    "\n",
    "        # Convert the indexed sentence to a tensor and add to the list\n",
    "        processed_sentences.append(torch.tensor(indexed_sentence, dtype=torch.long))\n",
    "\n",
    "        # Create the token sentence with special tokens for visualization\n",
    "        token_sentence = ['<EDGE>'] + [token if token in vocab_dict else '<UNK>' for token in sentence]\n",
    "        token_sentence += ['<PAD>'] * (max_length - len(token_sentence) - 1)\n",
    "        token_sentence.append('<EDGE>')\n",
    "        token_sentences.append(token_sentence)\n",
    "\n",
    "        # Save the indexed sentence for inspection\n",
    "        indexed_sentences.append(indexed_sentence)\n",
    "\n",
    "    # Stack all sentences into a single tensor for batch processing\n",
    "    processed_sentences = torch.stack(processed_sentences)\n",
    "\n",
    "    return processed_sentences, indexed_sentences, token_sentences\n",
    "\n",
    "# Process the sentences and get both processed tensors, indexed sentences, and token sentences\n",
    "processed_train_tensors, indexed_train_sentences, token_train_sentences = process_sentences(train_sentences, vocab_dict)\n",
    "processed_dev_tensors, indexed_dev_sentences, token_dev_sentences = process_sentences(dev_sentences, vocab_dict)\n",
    "\n",
    "# Print out the first few original, indexed, and token sentences for inspection\n",
    "for i in range(3):\n",
    "    print(f\"Original sentence {i+1}: {train_sentences[i]}\\n\")\n",
    "    print(f\"Token sentence {i+1} (with special tokens): {token_train_sentences[i]}\\n\")\n",
    "    print(f\"Indexed sentence {i+1}: {indexed_train_sentences[i]}\\n\")\n",
    "\n",
    "# Additionally, print out the processed tensors for the first few sentences\n",
    "print(\"Processed train tensors (first 3 sentences):\")\n",
    "print(processed_train_tensors[:3])\n",
    "\n",
    "# Create TensorDatasets for the training and development data\n",
    "train_data = TensorDataset(processed_train_tensors[:, :-1], processed_train_tensors[:, 1:])\n",
    "dev_data = TensorDataset(processed_dev_tensors[:, :-1], processed_dev_tensors[:, 1:])\n",
    "\n",
    "# Define batch size\n",
    "batch_size = 64\n",
    "\n",
    "# Create DataLoaders for the training and development sets\n",
    "train_loader = DataLoader(train_data, batch_size=batch_size, shuffle=True)\n",
    "dev_loader = DataLoader(dev_data, batch_size=batch_size)"
   ]
  },
  {
   "cell_type": "markdown",
   "metadata": {},
   "source": [
    "1.4) Finally, load the test set text file as single string and keep it in a variable."
   ]
  },
  {
   "cell_type": "code",
   "execution_count": 5,
   "metadata": {},
   "outputs": [
    {
     "name": "stdout",
     "output_type": "stream",
     "text": [
      "\n",
      "Total length of Test Set: 218470 characters\n",
      "\n",
      "First 100 characters of Test Set:\n",
      "\n",
      " this coincidence enabled freemasons to wear the forget-me-not badge as a secret sign of membership .\n"
     ]
    }
   ],
   "source": [
    "# Function to load the test set into a single string\n",
    "def load_test_set(file_path):\n",
    "    with open(file_path, 'r', encoding='utf-8') as f:\n",
    "        content = f.read()\n",
    "        # Remove trailing whitespace, including newlines\n",
    "        return content.rstrip()  \n",
    "\n",
    "# Specify the path to the test text file\n",
    "test_file_path = 'test.txt'\n",
    "\n",
    "# Load the test set using the function\n",
    "test_set_string = load_test_set(test_file_path)\n",
    "\n",
    "# Output the total length of the test set string\n",
    "print(f\"\\nTotal length of Test Set: {len(test_set_string)} characters\\n\")\n",
    "\n",
    "# Output the first 100 characters of the test set for verification\n",
    "print(\"First 100 characters of Test Set:\\n\\n\", test_set_string[:100])"
   ]
  },
  {
   "cell_type": "markdown",
   "metadata": {},
   "source": [
    "## 2) Evaluation tools (10%)\n",
    "\n",
    "We're going to need a function that evaluates our language models as well as a way to test this function before we make the language model.\n",
    "To test the evaluation function, you need to make a mock model which can be used exactly like a language model but that works with some simple rules.\n",
    "This mock model will then be used to check the evaluation, compression, and decompression functions before we've developed the language model.\n",
    "\n",
    "In this assignment, a language model function assumes the following signature:\n",
    "\n",
    "* A parameter `x_indexes` being a tensor that gives the model's input token indexes of a batch of sentences, starting with the edge token.\n",
    "    The tensor is of type `int64` with shape `(batch size, time steps)`.\n",
    "* Returns a tensor of logits predicting which vocabulary token can be the next token after each token in `x_indexes`.\n",
    "    The tensor is of type `float32` with shape `(batch size, time steps, vocab size)`.\n",
    "\n",
    "Do the following tasks:"
   ]
  },
  {
   "cell_type": "markdown",
   "metadata": {},
   "source": [
    "2.1) Develop a mock language model.\n",
    "This language model will be a module that predicts the next token after every token using these rules:\n",
    "\n",
    "* If the actual previous token (not the predicted one) was 'the' then predict that the current token is 'dog'.\n",
    "* Otherwise, predict that the current token is 'the'.\n",
    "\n",
    "Remember that it is logits that will be returned by the forward function, not probabilities.\n",
    "**Give the token being predicted a logit of 2 and all other tokens a logit of 0.**\n",
    "The name of this class should be `MockModel`.\n",
    "\n",
    "Hints:\n",
    "\n",
    "* Feel free to use `for` loops and `if` statements.\n",
    "* Remember that `x_indexes` is a tensor of previous tokens.\n",
    "    For example, if `x_indexes` is `[[1, 3]]`, this is saying that the first token to predict has a previous token being 1 and the second token to predict has a previous token being 3.\n",
    "\n",
    "Some test code has been provided to check that your mock model is correct.\n",
    "Fix the test code as instructed in the comments."
   ]
  },
  {
   "cell_type": "code",
   "execution_count": 6,
   "metadata": {},
   "outputs": [],
   "source": [
    "class MockModel(nn.Module):\n",
    "    def __init__(self, vocab_size, index_of_edge, index_of_the, index_of_dog):\n",
    "        super().__init__()\n",
    "        # Store the size of the vocabulary\n",
    "        self.vocab_size = vocab_size\n",
    "        # Store the index of the 'the' token from the vocabulary\n",
    "        self.index_of_the = index_of_the\n",
    "        # Store the index of the 'dog' token from the vocabulary\n",
    "        self.index_of_dog = index_of_dog\n",
    "\n",
    "    def forward(self, x_indexes):\n",
    "        # Initialize a tensor of zeros that will hold the logits for the predictions\n",
    "        logits = torch.zeros((x_indexes.size(0), x_indexes.size(1), self.vocab_size), dtype=torch.float32)\n",
    "        \n",
    "        # Iterate over each sentence in the batch\n",
    "        for i in range(x_indexes.size(0)):  # Loop over the sentences in the batch\n",
    "            for j in range(x_indexes.size(1)):  # Loop over each token in the sentence\n",
    "                # Apply the rule to set the logit for 'dog' to 2 if the previous token was 'the'\n",
    "                if x_indexes[i, j] == self.index_of_the:\n",
    "                    logits[i, j, self.index_of_dog] = 2\n",
    "                else:  # If the previous token was not 'the', set the logit for 'the' to 2\n",
    "                    logits[i, j, self.index_of_the] = 2\n",
    "                    \n",
    "        return logits"
   ]
  },
  {
   "cell_type": "code",
   "execution_count": 7,
   "metadata": {},
   "outputs": [
    {
     "name": "stdout",
     "output_type": "stream",
     "text": [
      "Correct!\n"
     ]
    }
   ],
   "source": [
    "index_of_edge = vocab_dict['<EDGE>']  # Get the index of the edge token\n",
    "index_of_the = vocab_dict['the']  # Get the index of the token 'the'\n",
    "index_of_dog = vocab_dict['dog']  # Get the index of the token 'dog'\n",
    "\n",
    "# Initialize the mock model with correct parameters\n",
    "mock_model = MockModel(vocab_size, index_of_edge, index_of_the, index_of_dog)  \n",
    "\n",
    "# Define the mock x_indexes tensor\n",
    "mock_x_indexes = torch.tensor([\n",
    "    [index_of_edge, index_of_dog, index_of_the, index_of_the],\n",
    "    [index_of_edge, index_of_the, index_of_dog, index_of_dog],\n",
    "], dtype=torch.int64, device=device)\n",
    "\n",
    "# Define the expected logits tensor\n",
    "mock_expected_logits = torch.zeros((2, 4, vocab_size), dtype=torch.float32, device=device)\n",
    "mock_expected_logits[0, 0, index_of_the] = 2\n",
    "mock_expected_logits[0, 1, index_of_the] = 2\n",
    "mock_expected_logits[0, 2, index_of_dog] = 2\n",
    "mock_expected_logits[0, 3, index_of_dog] = 2\n",
    "mock_expected_logits[1, 0, index_of_the] = 2\n",
    "mock_expected_logits[1, 1, index_of_dog] = 2\n",
    "mock_expected_logits[1, 2, index_of_the] = 2\n",
    "mock_expected_logits[1, 3, index_of_the] = 2\n",
    "\n",
    "# Get the logits from the mock model\n",
    "mock_logits = mock_model(mock_x_indexes)\n",
    "# Perform the assertions to ensure the mock model is working correctly\n",
    "assert mock_logits.shape == mock_expected_logits.shape, 'Output shape is invalid.'\n",
    "assert mock_logits.dtype == mock_expected_logits.dtype, 'Output data type is invalid.'\n",
    "assert torch.unique(mock_logits.detach()).tolist() == [0.0, 2.0], 'Output has values other than 0 and 2'\n",
    "assert (mock_logits == mock_expected_logits).all(), 'Output has the wrong logits.'\n",
    "print('Correct!')"
   ]
  },
  {
   "cell_type": "markdown",
   "metadata": {},
   "source": [
    "2.2) Next, we need a function that measures the perplexity of a language model on the dev set.\n",
    "Your function must take a model and a data set of token indexes and return the perplexity over the entire data set.\n",
    "\n",
    "Hints:\n",
    "\n",
    "* Don't forget that the perplexity includes the probability of the edge token at the end of the sentence.\n",
    "* Don't forget to ignore pad tokens.\n",
    "\n",
    "Use this function to find the mock model's perplexity on the dev set, which should be equal to `7062.2`."
   ]
  },
  {
   "cell_type": "code",
   "execution_count": 8,
   "metadata": {},
   "outputs": [
    {
     "name": "stdout",
     "output_type": "stream",
     "text": [
      "Perplexity on the dev set: 7062.2587890625\n"
     ]
    }
   ],
   "source": [
    "def calculate_perplexity(model, data_loader, pad_token_id, edge_token_id):\n",
    "    # Switch model to evaluation mode \n",
    "    model.eval() \n",
    "    # Sum of log probabilities for all predictions\n",
    "    total_log_prob = 0.0  \n",
    "    # Total number of tokens processed, excluding padding tokens\n",
    "    total_tokens = 0  \n",
    "\n",
    "    # Disable gradient calculations for efficiency\n",
    "    with torch.no_grad():\n",
    "        for inputs, targets in data_loader:\n",
    "            # Move input and target tensors to the same device as the model\n",
    "            inputs, targets = inputs.to(device), targets.to(device)\n",
    "\n",
    "            # Get the logits (raw scores) for next token predictions from the model\n",
    "            logits = model(inputs)\n",
    "            # Flatten logits for processing\n",
    "            logits = logits.view(-1, logits.size(-1))  \n",
    "            \n",
    "            # Convert logits to log probabilities\n",
    "            log_probs = F.log_softmax(logits, dim=-1)\n",
    "            # Flatten the target tokens for processing\n",
    "            targets = targets.view(-1)  \n",
    "            # Gather the log probabilities of the target tokens\n",
    "            target_log_probs = log_probs.gather(dim=1, index=targets.unsqueeze(1)).squeeze(1)\n",
    "\n",
    "            # Create a mask to exclude padding tokens from affecting the loss calculation\n",
    "            mask = (targets != pad_token_id)\n",
    "            # Ensure that the edge token at the end of each sentence is included\n",
    "            for i in range(inputs.size(0)):\n",
    "                mask[i * inputs.size(1) - 1] |= (inputs[i, -1] == edge_token_id)\n",
    "            \n",
    "            # Apply the mask to the target log probabilities\n",
    "            target_log_probs = target_log_probs * mask.float()\n",
    "\n",
    "            # Accumulate the sum of log probabilities and the count of tokens\n",
    "            total_log_prob += target_log_probs.sum().item()\n",
    "            total_tokens += mask.sum().item()\n",
    "\n",
    "    # Calculate the average negative log probability across all tokens\n",
    "    average_neg_log_prob = -total_log_prob / total_tokens\n",
    "    # Calculate the perplexity as the exponent of the average negative log probability\n",
    "    perplexity = torch.exp(torch.tensor(average_neg_log_prob))\n",
    "\n",
    "    return perplexity.item()\n",
    "\n",
    "# Calculate and print the model's perplexity on the dev set\n",
    "dev_perplexity = calculate_perplexity(mock_model, dev_loader, vocab_dict['<PAD>'], vocab_dict['<EDGE>'])\n",
    "print(f\"Perplexity on the dev set: {dev_perplexity}\")"
   ]
  },
  {
   "cell_type": "markdown",
   "metadata": {},
   "source": [
    "## 3) Compression and decompression (20%)\n",
    "\n",
    "We will now write the code that makes the actual compression and decompression of a text.\n",
    "\n",
    "The compression algorithm will work as follows:\n",
    "\n",
    "* You have a string of text to compress called `text` and a language model called `model`.\n",
    "* Extract a list of tokens from `text` called `tokens` and a list of corresponding token indexes called `indexes`.\n",
    "* Use `model` on `indexes` to produce `predicted`, a list of predicted next tokens for every index in `indexes`.\n",
    "    A predicted next token is just the most probable token according to `model`.\n",
    "* If a token in `predicted` corresponds to a token in `tokens`, then that token can be predicted by the model from its previous tokens.\n",
    "    In this case, we don't need to have the token written down as it can be predicted, so we replace it in `tokens` with the single letter 'X' to say that a token should be predicted here.\n",
    "    If 'X' is shorter than the replaced token, then the text will become shorter.\n",
    "    Since all the text in our data sets is in lowercase, there will never be an 'X' in a sentence, so we can safely use it as a flag.\n",
    "* If the token isn't correctly predicted then we leave the token in the text as-is.\n",
    "* After all predictable tokens in `tokens` have been replaced with an 'X', return `tokens` as a space separated string.\n",
    "\n",
    "The decompression algorithm will work as follows:\n",
    "\n",
    "* You have a string of compressed text called `text` and a language model called `model`.\n",
    "* Extract a list of tokens from `text` called `tokens`.\n",
    "* Go through the tokens in `tokens` from the front and stop at the first 'X'.\n",
    "* Convert all the tokens before the 'X' to token indexes called `indexes`.\n",
    "* Use `model` to predict what the most probable token at the end of `indexes` would be.\n",
    "* Replace the 'X' in `tokens` with this most probable token.\n",
    "* Repeat this for every 'X'.\n",
    "* After all 'X' are replaced in `tokens`, return `tokens` as a space separated string.\n",
    "\n",
    "Do the following tasks:"
   ]
  },
  {
   "cell_type": "markdown",
   "metadata": {},
   "source": [
    "3.1) Start with the compression function.\n",
    "The input text will consist of sentences separated by new lines and space separated tokens (just like the raw data sets).\n",
    "The function should return a single string with each line in the input text being compressed.\n",
    "Remember that we want a compressed text to be decompressed back into the exact original text, which means that all out-of-vocabulary tokens must be left as-is (**there must not be any unknown tokens in the output**).\n",
    "\n",
    "Print out the result of compressing this sentence using the mock model:\n",
    "\n",
    "`the dog bit the cat sensually .`\n",
    "\n",
    "which should be compressed into:\n",
    "\n",
    "`X X bit X cat sensually .`\n",
    "\n",
    "Hints:\n",
    "\n",
    "* You don't need to follow the algorithm described above exactly (you can use different variable names and you can use new variables).\n",
    "* Don't forget that out of vocabulary tokens still need to be replaced with the unknown token when creating the token indexes.\n",
    "    What you can't do is return unknown tokens in the compressed output.\n",
    "* The most probable token index for all token positions at once can be found from the logits by using `.argmax(1)`.\n",
    "* Do not compare the token indexes of the uncompressed sentence to the predicted token indexes as otherwise the unknown token can be considered a correct prediction.\n",
    "    Instead, compare the predictions with the string tokens in the uncompressed sentence."
   ]
  },
  {
   "cell_type": "code",
   "execution_count": 9,
   "metadata": {},
   "outputs": [
    {
     "name": "stdout",
     "output_type": "stream",
     "text": [
      "Compressed Sentence: X X bit X cat sensually .\n"
     ]
    }
   ],
   "source": [
    "def compress_text(text, model, vocab_dict, index_to_token):\n",
    "    # Tokenize the text into sentences\n",
    "    sentences = text.split('\\n')\n",
    "    tokenized_sentences = [sentence.split(' ') for sentence in sentences]\n",
    "\n",
    "    compressed_sentences = []\n",
    "\n",
    "    for tokens in tokenized_sentences:\n",
    "        # Convert tokens to their corresponding indexes\n",
    "        indexes = [vocab_dict['<EDGE>']] + [vocab_dict.get(token, vocab_dict['<UNK>']) for token in tokens]\n",
    "\n",
    "        # Convert indexes to a tensor and predict the next tokens using the model\n",
    "        indexes_tensor = torch.tensor([indexes[:-1]], dtype=torch.int64)\n",
    "        logits = model(indexes_tensor)\n",
    "        predicted_indexes = logits.argmax(2).squeeze(0)\n",
    "\n",
    "        # Replace predictable tokens with 'X'\n",
    "        compressed_tokens = []\n",
    "        for i, token in enumerate(tokens):\n",
    "            # Get the predicted token for the current position\n",
    "            predicted_token = index_to_token[predicted_indexes[i].item()]\n",
    "\n",
    "            if predicted_token == token:\n",
    "                compressed_tokens.append('X')\n",
    "            else:\n",
    "                compressed_tokens.append(token)\n",
    "\n",
    "        # Join the compressed tokens and add to the list of compressed sentences\n",
    "        compressed_sentence = ' '.join(compressed_tokens)\n",
    "        compressed_sentences.append(compressed_sentence)\n",
    "\n",
    "    # Join the compressed sentences into a single string\n",
    "    compressed_text = '\\n'.join(compressed_sentences)\n",
    "    return compressed_text\n",
    "\n",
    "# Compress the example sentence using the mock model\n",
    "example_sentence = \"the dog bit the cat sensually .\"\n",
    "compressed_sentence = compress_text(example_sentence, mock_model, vocab_dict, index_to_token)\n",
    "print(\"Compressed Sentence:\", compressed_sentence)"
   ]
  },
  {
   "cell_type": "markdown",
   "metadata": {},
   "source": [
    "3.2) Now write the decompression function.\n",
    "Again, The input text will consist of sentences separated by new lines and space separated tokens, only this time, some of those tokens will be an 'X'.\n",
    "The function should return a single big string where each line in the compressed text is decompressed back into the original input line.\n",
    "\n",
    "Print out the result of decompressing the compressed text:\n",
    "\n",
    "`X X bit X cat sensually .`\n",
    "\n",
    "which should be decompressed into:\n",
    "\n",
    "`the dog bit the cat sensually .`\n",
    "\n",
    "Hints:\n",
    "\n",
    "* You cannot use the language model once to predict all 'X's at once because the sentence prefix leading up to the 'X' must not have another 'X' in it.\n",
    "    So you have to make a separate language model prediction for every 'X' using only the tokens that come before 'X' as input to the language model (plus the edge token at the front).\n",
    "* Don't forget that the input to the language model cannot contain 'X's, so make sure that you're replacing those 'X's with their predicted token when constructing the language model input.\n"
   ]
  },
  {
   "cell_type": "code",
   "execution_count": 10,
   "metadata": {},
   "outputs": [
    {
     "name": "stdout",
     "output_type": "stream",
     "text": [
      "Decompressed Text: the dog bit the cat sensually .\n"
     ]
    }
   ],
   "source": [
    "def decompress_text(text, model, vocab_dict, index_to_token):\n",
    "    # Tokenize the text into sentences\n",
    "    sentences = text.split('\\n')\n",
    "    tokenized_sentences = [sentence.split(' ') for sentence in sentences]\n",
    "\n",
    "    decompressed_sentences = []\n",
    "\n",
    "    for tokens in tokenized_sentences:\n",
    "        # Process each token in the sentence\n",
    "        for i in range(len(tokens)):\n",
    "            if tokens[i] == 'X':\n",
    "                # Prepare the prefix tokens for prediction (convert to indexes)\n",
    "                prefix_indexes = [vocab_dict['<EDGE>']] + [vocab_dict.get(token, vocab_dict['<UNK>']) for token in tokens[:i]]\n",
    "\n",
    "                # Convert indexes to a tensor and predict the next token using the model\n",
    "                prefix_indexes_tensor = torch.tensor([prefix_indexes], dtype=torch.int64)\n",
    "                logits = model(prefix_indexes_tensor)\n",
    "                predicted_index = logits[0, -1].argmax().item()\n",
    "                predicted_token = index_to_token[predicted_index]\n",
    "\n",
    "                # Replace 'X' with the predicted token\n",
    "                tokens[i] = predicted_token\n",
    "\n",
    "        # Join the decompressed tokens and add to the list of decompressed sentences\n",
    "        decompressed_sentence = ' '.join(tokens)\n",
    "        decompressed_sentences.append(decompressed_sentence)\n",
    "\n",
    "    # Join the decompressed sentences into a single string\n",
    "    decompressed_text = '\\n'.join(decompressed_sentences)\n",
    "    return decompressed_text\n",
    "\n",
    "# Decompress the example compressed text using the mock model\n",
    "compressed_text = \"X X bit X cat sensually .\"\n",
    "decompressed_text = decompress_text(compressed_text, mock_model, vocab_dict, index_to_token)\n",
    "print(\"Decompressed Text:\", decompressed_text)"
   ]
  },
  {
   "cell_type": "markdown",
   "metadata": {},
   "source": [
    "3.3) Next, calculate and print the space saving amount of the mock model on the test set.\n",
    "The space saving amount is calculated as follows:\n",
    "\n",
    "$$\\text{space\\_saving}(t) = 1 - \\frac{|\\text{compress}(t)|}{|t|}$$\n",
    "\n",
    "where $|t|$ is the number of characters in text $t$.\n",
    "\n",
    "This measure tells you what fraction of the original size has been shaved off after compression (higher is better).\n",
    "The mock model should give 2.4%."
   ]
  },
  {
   "cell_type": "code",
   "execution_count": 11,
   "metadata": {},
   "outputs": [
    {
     "name": "stdout",
     "output_type": "stream",
     "text": [
      "Space saving: 2.36%\n"
     ]
    }
   ],
   "source": [
    "def calculate_space_saving(original_text, model, vocab_dict, index_to_token):\n",
    "    # Use the compress_text function to compress the original text\n",
    "    compressed_text = compress_text(original_text, model, vocab_dict, index_to_token)\n",
    "\n",
    "    # Calculate the length of the original and compressed text\n",
    "    original_size = len(original_text)\n",
    "    compressed_size = len(compressed_text)\n",
    "\n",
    "    # Calculate the space saving as a fraction\n",
    "    space_saving_fraction = 1 - (compressed_size / original_size)\n",
    "\n",
    "    return space_saving_fraction\n",
    "\n",
    "# Example usage with the test set string\n",
    "space_saving_fraction = calculate_space_saving(test_set_string, mock_model, vocab_dict, index_to_token)\n",
    "\n",
    "# Print the space saving as a percentage\n",
    "print(f\"Space saving: {space_saving_fraction * 100:.2f}%\")"
   ]
  },
  {
   "cell_type": "markdown",
   "metadata": {},
   "source": [
    "## 4) Making and using a language model (50%)\n",
    "\n",
    "Now we finally train a language model and use it to compress the test set.\n",
    "\n",
    "Do the following tasks:"
   ]
  },
  {
   "cell_type": "markdown",
   "metadata": {},
   "source": [
    "4.1) Train a neural language model on the train set.\n",
    "After training, show a graph of how the *dev set perplexity* varies with each epoch (use the perplexity function you wrote above)."
   ]
  },
  {
   "cell_type": "code",
   "execution_count": 12,
   "metadata": {},
   "outputs": [
    {
     "name": "stderr",
     "output_type": "stream",
     "text": [
      "Epoch 1/8: 100%|██████████| 161/161 [01:33<00:00,  1.72batch/s]\n"
     ]
    },
    {
     "name": "stdout",
     "output_type": "stream",
     "text": [
      "Epoch 1: Dev Perplexity: 171.77293395996094\n"
     ]
    },
    {
     "name": "stderr",
     "output_type": "stream",
     "text": [
      "Epoch 2/8: 100%|██████████| 161/161 [01:33<00:00,  1.72batch/s]\n"
     ]
    },
    {
     "name": "stdout",
     "output_type": "stream",
     "text": [
      "Epoch 2: Dev Perplexity: 128.89913940429688\n"
     ]
    },
    {
     "name": "stderr",
     "output_type": "stream",
     "text": [
      "Epoch 3/8: 100%|██████████| 161/161 [01:37<00:00,  1.66batch/s]\n"
     ]
    },
    {
     "name": "stdout",
     "output_type": "stream",
     "text": [
      "Epoch 3: Dev Perplexity: 111.51046752929688\n"
     ]
    },
    {
     "name": "stderr",
     "output_type": "stream",
     "text": [
      "Epoch 4/8: 100%|██████████| 161/161 [01:31<00:00,  1.76batch/s]\n"
     ]
    },
    {
     "name": "stdout",
     "output_type": "stream",
     "text": [
      "Epoch 4: Dev Perplexity: 104.06242370605469\n"
     ]
    },
    {
     "name": "stderr",
     "output_type": "stream",
     "text": [
      "Epoch 5/8: 100%|██████████| 161/161 [01:25<00:00,  1.88batch/s]\n"
     ]
    },
    {
     "name": "stdout",
     "output_type": "stream",
     "text": [
      "Epoch 5: Dev Perplexity: 99.1762466430664\n"
     ]
    },
    {
     "name": "stderr",
     "output_type": "stream",
     "text": [
      "Epoch 6/8: 100%|██████████| 161/161 [01:27<00:00,  1.84batch/s]\n"
     ]
    },
    {
     "name": "stdout",
     "output_type": "stream",
     "text": [
      "Epoch 6: Dev Perplexity: 95.82159423828125\n"
     ]
    },
    {
     "name": "stderr",
     "output_type": "stream",
     "text": [
      "Epoch 7/8: 100%|██████████| 161/161 [01:25<00:00,  1.89batch/s]\n"
     ]
    },
    {
     "name": "stdout",
     "output_type": "stream",
     "text": [
      "Epoch 7: Dev Perplexity: 94.19734954833984\n"
     ]
    },
    {
     "name": "stderr",
     "output_type": "stream",
     "text": [
      "Epoch 8/8: 100%|██████████| 161/161 [01:23<00:00,  1.93batch/s]\n"
     ]
    },
    {
     "name": "stdout",
     "output_type": "stream",
     "text": [
      "Epoch 8: Dev Perplexity: 93.6771240234375\n"
     ]
    },
    {
     "data": {
      "image/png": "[encoded data removed]",
      "text/plain": [
       "<Figure size 1000x500 with 1 Axes>"
      ]
     },
     "metadata": {},
     "output_type": "display_data"
    }
   ],
   "source": [
    "# Define the RNN model architecture\n",
    "class LanguageModel(nn.Module):\n",
    "    def __init__(self, vocab_size, embedding_dim, hidden_dim, num_layers, dropout_prob):\n",
    "        super(LanguageModel, self).__init__()\n",
    "        # Embedding layer that converts token indices to embeddings\n",
    "        self.embedding = nn.Embedding(vocab_size, embedding_dim)\n",
    "        # Recurrent network layer\n",
    "        self.rnn = nn.RNN(embedding_dim, hidden_dim, num_layers=num_layers,\n",
    "                          batch_first=True, dropout=dropout_prob)\n",
    "        # Fully connected layer that outputs the vocabulary size\n",
    "        self.fc = nn.Linear(hidden_dim, vocab_size)\n",
    "\n",
    "    def forward(self, x):\n",
    "        # Convert token indices to embeddings\n",
    "        x = self.embedding(x)\n",
    "        # Process the embeddings through the RNN\n",
    "        x, hidden = self.rnn(x)\n",
    "        # Pass the output of the RNN to the fully connected layer to get logits\n",
    "        x = self.fc(x)\n",
    "        return x\n",
    "\n",
    "# Set hyperparameters\n",
    "embedding_dim = 256  # Size of the embedding vectors\n",
    "hidden_dim = 256     # Number of features in the RNN hidden state\n",
    "learning_rate = 0.001 # Learning rate for the optimizer\n",
    "batch_size = 256     # Batch size for training\n",
    "num_layers = 2       # Number of RNN layers\n",
    "dropout_prob = 0.5   # Dropout probability to prevent overfitting\n",
    "\n",
    "# Initialize the model with the defined hyperparameters\n",
    "model = LanguageModel(vocab_size, embedding_dim, hidden_dim, num_layers, dropout_prob)\n",
    "\n",
    "# Define the loss function with padding token ignored during loss calculation\n",
    "criterion = nn.CrossEntropyLoss(ignore_index=vocab_dict['<PAD>'])\n",
    "# Define the optimizer for updating model parameters\n",
    "optimizer = optim.Adam(model.parameters(), lr=learning_rate)\n",
    "\n",
    "# Training loop\n",
    "num_epochs = 8\n",
    "train_losses = []\n",
    "dev_perplexities = []\n",
    "\n",
    "# Train for the specified number of epochs\n",
    "for epoch in range(num_epochs):\n",
    "    # Set the model to training mode\n",
    "    model.train() \n",
    "    epoch_loss = 0\n",
    "    # Iterate over batches of data from the training loader\n",
    "    with tqdm(total=len(train_loader), desc=f\"Epoch {epoch + 1}/{num_epochs}\", unit=\"batch\") as pbar:\n",
    "        for inputs, targets in train_loader:\n",
    "            # Move data to the device\n",
    "            inputs, targets = inputs.to(device), targets.to(device) \n",
    "\n",
    "            # Perform a forward pass of the model on the inputs\n",
    "            outputs = model(inputs)\n",
    "            # Reshape outputs to match the shape of `targets`\n",
    "            outputs = outputs.view(-1, vocab_size)\n",
    "            # Flatten `targets` to match the shape of `outputs`\n",
    "            targets = targets.view(-1)\n",
    "            # Calculate the loss between the outputs and targets\n",
    "            loss = criterion(outputs, targets)\n",
    "\n",
    "            # Zero the gradients before backward pass\n",
    "            optimizer.zero_grad()\n",
    "            # Backpropagate the loss\n",
    "            loss.backward() \n",
    "            # Update the model parameters\n",
    "            optimizer.step() \n",
    "\n",
    "            # Accumulate the loss\n",
    "            epoch_loss += loss.item() \n",
    "            # Update the progress bar\n",
    "            pbar.update(1) \n",
    "\n",
    "    # Record the average loss and perplexity for the epoch\n",
    "    train_losses.append(epoch_loss / len(train_loader))\n",
    "    # Calculate perplexity on the development set\n",
    "    dev_perplexity = calculate_perplexity(model, dev_loader, vocab_dict['<PAD>'], vocab_dict['<EDGE>'])\n",
    "    dev_perplexities.append(dev_perplexity)\n",
    "    # Print the development set perplexity\n",
    "    print(f\"Epoch {epoch + 1}: Dev Perplexity: {dev_perplexity}\")\n",
    "\n",
    "# Plotting the perplexity for the dev set after each epoch\n",
    "plt.figure(figsize=(10, 5))\n",
    "plt.plot(range(1, len(dev_perplexities) + 1), dev_perplexities, label='Dev Perplexity', color='blue', marker='o')\n",
    "plt.xlabel('Epochs')\n",
    "plt.ylabel('Perplexity')\n",
    "plt.title('Development Set Perplexity Across Epochs')\n",
    "plt.legend()\n",
    "plt.grid(True)\n",
    "plt.xticks(range(1, len(dev_perplexities) + 1))\n",
    "plt.show()"
   ]
  },
  {
   "cell_type": "markdown",
   "metadata": {},
   "source": [
    "4.2) Now measure the space saving amount of the trained model on the test text.\n",
    "Also check that when you decompress the compressed test text, you get exactly the same string as the test text.\n",
    "\n",
    "Note: You may need to strip off the new line character from the end of the test text when comparing it to the decompressed text."
   ]
  },
  {
   "cell_type": "code",
   "execution_count": 13,
   "metadata": {},
   "outputs": [
    {
     "name": "stdout",
     "output_type": "stream",
     "text": [
      "Space saving: 3.11%\n",
      "Decompression successful: Original and decompressed texts are the same!\n"
     ]
    }
   ],
   "source": [
    "# Set the model to evaluation mode\n",
    "model.eval()\n",
    "\n",
    "# Compress the test text\n",
    "compressed_test_text = compress_text(test_set_string, model, vocab_dict, index_to_token)\n",
    "\n",
    "# Calculate the space saving\n",
    "space_saving = calculate_space_saving(test_set_string, model, vocab_dict, index_to_token)\n",
    "print(f\"Space saving: {space_saving * 100:.2f}%\")\n",
    "\n",
    "# Decompress the compressed text\n",
    "decompressed_test_text = decompress_text(compressed_test_text, model, vocab_dict, index_to_token)\n",
    "\n",
    "# Compare the original and decompressed texts\n",
    "if test_set_string.strip() == decompressed_test_text.strip():\n",
    "    print(\"Decompression successful: Original and decompressed texts are the same!\")\n",
    "else:\n",
    "    print(\"Decompression mismatch: There is a difference between the original and decompressed texts!\")"
   ]
  },
  {
   "cell_type": "markdown",
   "metadata": {},
   "source": [
    "4.3) Now you need to analyse the model's output.\n",
    "Split the test text into sentences and compress each individual sentence.\n",
    "Print out the top 5 most compressed sentences and the top 5 least compressed sentences according to the space saving metric together with the compressed sentences."
   ]
  },
  {
   "cell_type": "code",
   "execution_count": 14,
   "metadata": {},
   "outputs": [
    {
     "name": "stdout",
     "output_type": "stream",
     "text": [
      "Top 5 Most Compressed Sentences:\n",
      "\n",
      "Original: the average household size was 2 .\n",
      "Compressed: X average X X X 2 .\n",
      "Space Saving: 44.12%\n",
      "\n",
      "Original: 0 % ) and new zealand ( 2 .\n",
      "Compressed: 0 % ) and new X ( 2 .\n",
      "Space Saving: 22.22%\n",
      "\n",
      "Original: she won a gold medal at the 2 0 1 6 summer olympics in the women 's 6 9 kg category .\n",
      "Compressed: she won a gold X at X 2 X X 6 summer X in X women X 6 9 kg category X\n",
      "Space Saving: 18.82%\n",
      "\n",
      "Original: the same 5 .\n",
      "Compressed: X same 5 .\n",
      "Space Saving: 16.67%\n",
      "\n",
      "Original: the european commission introduced the concept on 1 2 september 2 0 0 1 , a day after the terrorist attacks in the united states .\n",
      "Compressed: X european commission introduced X concept on 1 X X 2 X 0 1 X a day after X terrorist attacks in X united X X\n",
      "Space Saving: 16.15%\n",
      "\n",
      "----------------------------------------------------------------------------------------------------------------------------\n",
      "Top 5 Least Compressed Sentences:\n",
      "\n",
      "Original: near somwarpet where the coorgs were led by mathanda appachu the resistance was most furious .\n",
      "Compressed: near somwarpet where the coorgs were led by mathanda appachu the resistance was most furious X\n",
      "Space Saving: 0.00%\n",
      "\n",
      "Original: he scored his first professional goal on 2 5 january 2 0 1 5 , netting the game 's only in an away win against carabobo fc .\n",
      "Compressed: he scored his first professional goal on 2 5 january 2 X X 5 , netting the game 's only in an away win against carabobo fc X\n",
      "Space Saving: 0.00%\n",
      "\n",
      "Original: offa is brought in , bound to a chair ; in his distraction he freely confesses his crimes .\n",
      "Compressed: offa is brought in , bound to a chair ; in his distraction he freely confesses his crimes .\n",
      "Space Saving: 0.00%\n",
      "\n",
      "Original: then reliance appointed defence secretary shashikant sharma as new cag to audit kg basin , said prashant bhushan .\n",
      "Compressed: then reliance appointed defence secretary shashikant sharma as new cag to audit kg basin , said prashant bhushan .\n",
      "Space Saving: 0.00%\n",
      "\n",
      "Original: vartox is in love with lana lang and has shared a rivalry with superman for her affections .\n",
      "Compressed: vartox is in love with lana lang and has shared a rivalry with superman for her affections X\n",
      "Space Saving: 0.00%\n",
      "\n"
     ]
    }
   ],
   "source": [
    "# Split the test text into sentences\n",
    "sentences = sent_tokenize(test_set_string)\n",
    "\n",
    "# Compress each sentence and calculate space saving\n",
    "sentence_compressions = []\n",
    "for sentence in sentences:\n",
    "    compressed_sentence = compress_text(sentence, model, vocab_dict, index_to_token)\n",
    "    space_saving = calculate_space_saving(sentence, model, vocab_dict, index_to_token) \n",
    "    sentence_compressions.append((sentence, compressed_sentence, space_saving))\n",
    "\n",
    "# Sort the sentences by space saving\n",
    "sentence_compressions.sort(key=lambda x: x[2], reverse=True)\n",
    "\n",
    "# Extract top 5 most and least compressed sentences\n",
    "top_5_most_compressed = sentence_compressions[:5]\n",
    "top_5_least_compressed = sentence_compressions[-5:]\n",
    "\n",
    "# Print out the top 5 most compressed sentences\n",
    "print(\"Top 5 Most Compressed Sentences:\\n\")\n",
    "for original, compressed, saving in top_5_most_compressed:\n",
    "    print(f\"Original: {original}\\nCompressed: {compressed}\\nSpace Saving: {saving * 100:.2f}%\\n\")\n",
    "\n",
    "print(\"-\"*124)\n",
    "\n",
    "# Print out the top 5 least compressed sentences\n",
    "print(\"Top 5 Least Compressed Sentences:\\n\")\n",
    "for original, compressed, saving in top_5_least_compressed:\n",
    "    print(f\"Original: {original}\\nCompressed: {compressed}\\nSpace Saving: {saving * 100:.2f}%\\n\")"
   ]
  },
  {
   "cell_type": "markdown",
   "metadata": {},
   "source": [
    "4.4) Is the reason for whether a sentence is compressible or not due to its similarity to the train set (a sentence that is similar to one in the train set would be easier to predict and thus more tokens will be compressed)?\n",
    "Find out the answer to this by doing the following:\n",
    "\n",
    "Extract all the trigrams from the train set (you can use `nltk.trigrams` to do this).\n",
    "For each sentence in the test set, count how many of its trigrams are also found in the train set.\n",
    "Turn this count into a domain similarity measure by dividing it by the number of trigrams in the test sentence.\n",
    "\n",
    "Note: In order for this fraction to be meaningful from the language model's point of view, the edge token must be added to the front of the test sentences and out-of-vocabulary tokens must be replaced with the unknown token.\n",
    "\n",
    "Create a list that maps each sentence's domain similarity to its space saving amount.\n",
    "Plot a scatter plot showing how the domain similarity measure relates to the space saving amount of each test sentence.\n",
    "If there is a correlation between these two measures, then the points in the scatter plot will form approximately into a straight line."
   ]
  },
  {
   "cell_type": "code",
   "execution_count": 15,
   "metadata": {},
   "outputs": [
    {
     "data": {
      "image/png": "[encoded data removed]",
      "text/plain": [
       "<Figure size 1200x800 with 1 Axes>"
      ]
     },
     "metadata": {},
     "output_type": "display_data"
    }
   ],
   "source": [
    "# Function to extract trigrams from the training sentences\n",
    "def extract_trigrams(sentences):\n",
    "    trigram_set = set()\n",
    "    for sentence in sentences:\n",
    "        # Tokenize the sentence\n",
    "        tokens = word_tokenize(' '.join(sentence))  \n",
    "        sentence_trigrams = set(trigrams(tokens))\n",
    "        trigram_set.update(sentence_trigrams)\n",
    "    return trigram_set\n",
    "\n",
    "# Extract trigrams from the training set\n",
    "train_trigrams = extract_trigrams(train_sentences)\n",
    "\n",
    "# Function to calculate domain similarity\n",
    "def calculate_domain_similarity(sentence, train_trigrams):\n",
    "    # Tokenize the sentence\n",
    "    tokens = word_tokenize(sentence)  \n",
    "    sentence_trigrams = set(trigrams(tokens))\n",
    "    common_trigrams = sentence_trigrams.intersection(train_trigrams)\n",
    "    if len(sentence_trigrams) == 0:\n",
    "        return 0\n",
    "    return len(common_trigrams) / len(sentence_trigrams)\n",
    "\n",
    "# Function to calculate space saving and domain similarity\n",
    "def analyze_compression(sentences, model, vocab_dict, index_to_token, train_trigrams):\n",
    "    results = []\n",
    "    for sentence in sentences:\n",
    "        compressed_sentence = compress_text(sentence, model, vocab_dict, index_to_token)\n",
    "        space_saving = calculate_space_saving(sentence, model, vocab_dict, index_to_token)\n",
    "        domain_similarity = calculate_domain_similarity(sentence, train_trigrams)\n",
    "        results.append((sentence, compressed_sentence, space_saving, domain_similarity))\n",
    "    return results\n",
    "\n",
    "# Analyze the test set sentences\n",
    "test_sentences = sent_tokenize(test_set_string)\n",
    "analysis_results = analyze_compression(test_sentences, model, vocab_dict, index_to_token, train_trigrams)\n",
    "\n",
    "# Plot the results\n",
    "space_savings = [result[2] for result in analysis_results]\n",
    "domain_similarities = [result[3] for result in analysis_results]\n",
    "\n",
    "plt.figure(figsize=(12, 8))  \n",
    "plt.scatter(space_savings, domain_similarities, label='Test Sentences')\n",
    "plt.xlabel('Space Saving Amount')  \n",
    "plt.ylabel('Domain Similarity')  \n",
    "plt.title('Space Saving vs Domain Similarity')\n",
    "plt.grid(True)\n",
    "plt.legend()\n",
    "plt.show()"
   ]
  },
  {
   "cell_type": "markdown",
   "metadata": {},
   "source": [
    "4.5) The scatter plot should not have created a straight line and should show a lot of bias towards very low space saving amounts, regardless of domain similarity.\n",
    "Why is domain similarity not enough for explaining the compressability?"
   ]
  },
  {
   "cell_type": "markdown",
   "metadata": {},
   "source": [
    "#### 4.5 Answer:\n",
    "\n",
    "Domain similarity alone isn't sufficient for predicting compressibility because it only indicates lexical resemblance, not the predictability of sentence structure or semantics. Compressibility depends on how well the language model can predict upcoming words, which is a function of complex linguistic patterns that domain similarity doesn't capture, such as syntax, context, and common phraseology. High domain similarity may not result in high compressibility if the model hasn't learned the deeper structural and contextual relationships within the language.\n",
    "\n",
    "---"
   ]
  },
  {
   "cell_type": "markdown",
   "metadata": {},
   "source": [
    "## 5) Conclusions (10%)\n",
    "\n",
    "Write the following conclusions:"
   ]
  },
  {
   "cell_type": "markdown",
   "metadata": {},
   "source": [
    "5.1) What is a simple change in the compression algorithm that can be made to increase compression?\n",
    "Do not suggest any fundamental changes; the algorithm must still work by predicting missing tokens."
   ]
  },
  {
   "cell_type": "markdown",
   "metadata": {},
   "source": [
    "#### 5.1 Answer:\n",
    "\n",
    "A simple yet effective change to the compression algorithm that can increase compression without altering its fundamental workings could be to replace not just individual predictable tokens but also contiguous sequences of such tokens with a single 'X'. Since the language model predicts the next token based on the sequence of previous tokens, if a sequence of words can be reliably predicted, this sequence can be marked for compression, reducing the output size more significantly than replacing tokens one by one. This approach leverages the model's understanding of longer predictable patterns, thus potentially increasing the compression ratio without necessitating a fundamental change in the algorithm's operation.\n",
    "\n",
    "---"
   ]
  },
  {
   "cell_type": "markdown",
   "metadata": {},
   "source": [
    "5.2) Write, in less than 300 words, your interpretation of the results and how you think the model could perform better.\n",
    "You should talk about things like overfitting/underfitting and whether the model is learning anything deep about English sentences."
   ]
  },
  {
   "cell_type": "markdown",
   "metadata": {},
   "source": [
    "#### 5.2 Answer:\n",
    "\n",
    "The descending perplexity over eight epochs indicates that the model is learning progressively from the training set, as evidenced by the improvement from a perplexity of 171.77 to 93.67. This trend suggests that the model is not overfitting, as the development set perplexity continues to decrease, showing that the model is generalizing well rather than memorizing the training data. However, the reduction in perplexity is less steep after the fifth epoch, indicating diminishing returns on learning.\n",
    "\n",
    "A perplexity close to 100 can still be considered high, implying there's room for the model to better grasp the complexities of English sentences. While the model appears to capture some patterns in the data (as the compression of certain sentences shows space savings up to 44.12%), it is not capturing the intricacies of language deeply enough to significantly compress more complex sentences, as shown by the least compressible sentences having 0% space saving. \n",
    "\n",
    "To improve the results in future work, a few strategies could be employed. First, enriching the training data could provide the model with a wider array of examples to learn from, potentially increasing its ability to generalize and compress more effectively. Second, hyperparameter tuning, such as adjusting the learning rate or experimenting with different architectures like LSTM or Transformer models, could lead to better performance. Third, extending the training duration could allow the model to converge more fully, though this must be balanced against the risk of overfitting. Lastly, introducing regularization techniques or more sophisticated loss functions could help the model learn more sophisticated patterns within the language. \n",
    "\n",
    "Overall, while the model successfully compresses some sentences and shows a consistent ability to decompress to the original texts, indicating a solid understanding of the text structure, there's potential to refine the model and its training process to achieve better compression rates and deeper linguistic understanding.\n",
    "\n",
    "---"
   ]
  }
 ],
 "metadata": {
  "interpreter": {
   "hash": "75ee2b71ad44bf9ef4e9bee896f68ffbc764a6a2c6d1f57c86c48f99ffc25ca8"
  },
  "kernelspec": {
   "display_name": "Python 3 (ipykernel)",
   "language": "python",
   "name": "python3"
  },
  "language_info": {
   "codemirror_mode": {
    "name": "ipython",
    "version": 3
   },
   "file_extension": ".py",
   "mimetype": "text/x-python",
   "name": "python",
   "nbconvert_exporter": "python",
   "pygments_lexer": "ipython3",
   "version": "3.9.13"
  }
 },
 "nbformat": 4,
 "nbformat_minor": 4
}
